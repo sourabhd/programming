{
 "metadata": {
  "name": "",
  "signature": "sha256:e07447897768b2592c0d82a27c412fa7ea4b848b2c80b00f03326da06362ec45"
 },
 "nbformat": 3,
 "nbformat_minor": 0,
 "worksheets": [
  {
   "cells": [
    {
     "cell_type": "heading",
     "level": 1,
     "metadata": {},
     "source": [
      "ON MAXIMUM SUBARRAY SUM PROBLEM"
     ]
    },
    {
     "cell_type": "markdown",
     "metadata": {},
     "source": [
      "**Author:** Sourabh Daptardar "
     ]
    },
    {
     "cell_type": "heading",
     "level": 3,
     "metadata": {},
     "source": [
      "**Question:** Given an array what is the subarray (contiguous) with maximum sum ?"
     ]
    },
    {
     "cell_type": "markdown",
     "metadata": {},
     "source": [
      "This problem can be solved with a dynamic programming in **linear** time. The linear time dynamic programming solution to a variant of this problem was first given by **Kadane**. Here, we discuss dynamic programming approach to this problem."
     ]
    },
    {
     "cell_type": "heading",
     "level": 2,
     "metadata": {},
     "source": [
      "SOLUTION"
     ]
    },
    {
     "cell_type": "code",
     "collapsed": false,
     "input": [
      "from __future__ import print_function\n",
      "from copy import deepcopy\n",
      "%matplotlib inline"
     ],
     "language": "python",
     "metadata": {},
     "outputs": [],
     "prompt_number": 66
    },
    {
     "cell_type": "code",
     "collapsed": false,
     "input": [
      "def max_subarray_sum(X):\n",
      "    A = [0] + deepcopy(X)                 # prepend a 0 to the input array\n",
      "    N = len(A)                            # length of input array\n",
      "    C = [0] * N                           # initialize cumsum to 0\n",
      "    S = [0] * N                           # S[i] = max subset sum less than i  \n",
      "    C[0] = A[0]                           # initialize: sum upto first element is equal to first element \n",
      "    S[0] = A[0]                           # similar initialization\n",
      "    mxS = -1e30                           # output max sum : initialize to small value\n",
      "    mnC = 1e30                            # minimum cumulative sum : initialize to large value\n",
      "    mnCArr = [0] * N                      # not required: only included for plotting\n",
      "    mxI = -1                              # output range upper bound\n",
      "    mnI = -1                              # output range lower bound\n",
      "    for i in range(1,N):                \n",
      "        if C[i-1] < mnC:                  # minimum of cumulative sum\n",
      "            mnC = C[i-1]\n",
      "            mnI = i\n",
      "        mnCArr[i-1] = mnC\n",
      "        C[i] = C[i-1] + A[i]              # calculate cumulative sum\n",
      "        S[i] = C[i] - mnC                 # max subset sum ending in i\n",
      "        if S[i] > mxS:                    # max over (max subset sums ending in i) for all i    \n",
      "            mxS = S[i]\n",
      "            mxI = i\n",
      "        # print(S[i], mxC, mnC)\n",
      "    mnCArr[N-1] = mnC\n",
      "    return (mxS, mnI, mxI, mnC, mnCArr, A, C, S)   # (mxS, mnI, mxI) : sum and range required, rest are for plotting  "
     ],
     "language": "python",
     "metadata": {},
     "outputs": [],
     "prompt_number": 67
    },
    {
     "cell_type": "code",
     "collapsed": false,
     "input": [
      "# X = [5, 3, -9, 3, 13]\n",
      "# X = [904, 40, 523, 12, -335, -385, -124, 481, -31]\n",
      "# X = [-1, 1, 2, 3, -1, -1, 4, -5]\n",
      "X = [-8, 1, -3, 2]\n",
      "# X = [-4, -3, -1, -2]\n",
      "# X = [1, 5, 4, 3, 2]\n",
      "(maxSum, mnI, mxI, mnC, mnCArr, A, C, S) = max_subarray_sum(X)\n",
      "print((maxSum, mnI, mxI, mnC, mnCArr, A, C, S))"
     ],
     "language": "python",
     "metadata": {},
     "outputs": [
      {
       "output_type": "stream",
       "stream": "stdout",
       "text": [
        "(2, 4, 4, -10, [0, -8, -8, -10, -10], [0, -8, 1, -3, 2], [0, -8, -7, -10, -8], [0, -8, 1, -2, 2])\n"
       ]
      }
     ],
     "prompt_number": 68
    },
    {
     "cell_type": "heading",
     "level": 2,
     "metadata": {},
     "source": [
      "RECURRENCE"
     ]
    },
    {
     "cell_type": "markdown",
     "metadata": {},
     "source": [
      "If $A(1...n)$ is the input array, and $S(i)$ is the maximum subarray sum of $A(1..i)$\n",
      "\n",
      "$$\n",
      "S(i) = \\max_{j \\leq i}({C(i)} - \\min_{j < i}{C(j)}) \\\\\n",
      "C(i) = \\sum_{1 \\leq j \\leq i} A(j) \n",
      "$$"
     ]
    },
    {
     "cell_type": "heading",
     "level": 2,
     "metadata": {},
     "source": [
      "WHY DOES THIS WORK ?"
     ]
    },
    {
     "cell_type": "code",
     "collapsed": false,
     "input": [
      "import matplotlib.pyplot as plt"
     ],
     "language": "python",
     "metadata": {},
     "outputs": [],
     "prompt_number": 69
    },
    {
     "cell_type": "code",
     "collapsed": false,
     "input": [
      "fig, ax = plt.subplots()\n",
      "ax.set_xlabel('Index')\n",
      "ax.set_ylabel('Cumulative Sum and Minimum Cumulative sum')\n",
      "ax.plot(C, color='b', linewidth=2, marker='*', label='C')\n",
      "ax.plot(mnCArr, color='r', linestyle='--', linewidth=1, marker='^', label='minC')\n",
      "ax.legend()\n",
      "plt.show()"
     ],
     "language": "python",
     "metadata": {},
     "outputs": [
      {
       "metadata": {},
       "output_type": "display_data",
       "png": "[encoded data removed]",
       "text": [
        "<matplotlib.figure.Figure at 0x1067b0d10>"
       ]
      }
     ],
     "prompt_number": 70
    },
    {
     "cell_type": "markdown",
     "metadata": {},
     "source": [
      "Consider that the values in the input array are increments (could be positive or negative). You start with an initial value of 0 and successively apply these positive or negative decrements (to get cumulative sum plotted above). For example, you start with a initial stock price of zero and every day the share price rises or falls and you make profits or losses: your profits and losses are provided in the array. Money that you have is shown by the blue plot labeled 'C'. (Alternatively, imagine that you climb up or down slope in proportion to the amounts in the array.) Question is now what is the window of maximum gains ? (Gain is the sum of all profits and losses in the given time period). Intuitively, at every point (day), you check the lowest amount of money you had in the past (red dashed plot) - had you invested on that day (instead of the day you actually started) you would have made maximum profit. And what would be that profit ? Sum of all values in that range. If we precompute cumulative sums we can get in constant time as sum(i..j) = cumsum(1..j) - cumsum(1..i) where i < j  If you check this for all days, you can find the maximum profit subwindow or the maximum sum subarray. Thus, we get a linear algorithm."
     ]
    },
    {
     "cell_type": "heading",
     "level": 2,
     "metadata": {},
     "source": [
      "REFEREENCES"
     ]
    },
    {
     "cell_type": "markdown",
     "metadata": {},
     "source": [
      "1. Elements of programming interviews: Adnan Aziz, Tsung Hsien Lee, Amit Prakash\n",
      "2. Wikipedia article: http://en.wikipedia.org/wiki/Maximum_subarray_problem "
     ]
    }
   ],
   "metadata": {}
  }
 ]
}