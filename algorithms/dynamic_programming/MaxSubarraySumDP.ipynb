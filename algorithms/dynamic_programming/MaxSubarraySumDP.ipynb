{
 "metadata": {
  "name": "",
  "signature": "sha256:4696a4c46f612191912223e12e22c70b13bec98223ff621a6c17e3355441b173"
 },
 "nbformat": 3,
 "nbformat_minor": 0,
 "worksheets": [
  {
   "cells": [
    {
     "cell_type": "heading",
     "level": 1,
     "metadata": {},
     "source": [
      "ON MAXIMUM SUBARRAY SUM PROBLEM"
     ]
    },
    {
     "cell_type": "markdown",
     "metadata": {},
     "source": [
      "**Author:** Sourabh Daptardar "
     ]
    },
    {
     "cell_type": "heading",
     "level": 3,
     "metadata": {},
     "source": [
      "**Question:** Given an array what is the subarray (contiguous) with maximum sum ?"
     ]
    },
    {
     "cell_type": "markdown",
     "metadata": {},
     "source": [
      "This problem can be solved with a dynamic programming in **linear** time. The linear time dynamic programming solution to a variant of this problem was first given by **Kadane**. Here, we discuss dynamic programming approach to this problem."
     ]
    },
    {
     "cell_type": "heading",
     "level": 2,
     "metadata": {},
     "source": [
      "SOLUTION"
     ]
    },
    {
     "cell_type": "code",
     "collapsed": false,
     "input": [
      "from __future__ import print_function\n",
      "from copy import deepcopy\n",
      "%matplotlib inline"
     ],
     "language": "python",
     "metadata": {},
     "outputs": [],
     "prompt_number": 74
    },
    {
     "cell_type": "code",
     "collapsed": false,
     "input": [
      "def max_subarray_sum(X):\n",
      "    A = [0] + deepcopy(X)\n",
      "    N = len(A)\n",
      "    C = [0] * (N+1)\n",
      "    S = [0] * (N+1)\n",
      "    C[0] = A[0]\n",
      "    S[0] = A[0]\n",
      "    mxC = -1e30\n",
      "    mnC = 1e30\n",
      "    mxI = -1\n",
      "    mnI = -1\n",
      "    for i in range(1,N):\n",
      "        if C[i-1] < mnC:\n",
      "            mnC = C[i-1]\n",
      "            mnI = i\n",
      "        C[i] = C[i-1] + A[i]\n",
      "        if C[i] > mxC:\n",
      "            mxC = C[i]\n",
      "            mxI = i\n",
      "        S[i] = mxC - mnC\n",
      "        # print(S[i], mxC, mnC)\n",
      "    return (S[N-1], mnI, mxI,mnC, mxC, X, C, S)"
     ],
     "language": "python",
     "metadata": {},
     "outputs": [],
     "prompt_number": 75
    },
    {
     "cell_type": "code",
     "collapsed": false,
     "input": [
      "# A = [5, 3, -9, 3, 13]\n",
      "#A = [904, 40, 523, 12, -335, -385, -124, 481, -31]\n",
      "A = [-1, 1, 2, 3, -1, -1, 4, -5]\n",
      "(maxSum, mnI, mxI, mnC, mxC, X, C, S) = max_subarray_sum(A)\n",
      "print((maxSum, mnI, mxI, mnC, mxC, X, C, S))"
     ],
     "language": "python",
     "metadata": {},
     "outputs": [
      {
       "output_type": "stream",
       "stream": "stdout",
       "text": [
        "(8, 2, 7, -1, 7, [-1, 1, 2, 3, -1, -1, 4, -5], [0, -1, 0, 2, 5, 4, 3, 7, 2, 0], [0, -1, 1, 3, 6, 6, 6, 8, 8, 0])\n"
       ]
      }
     ],
     "prompt_number": 76
    },
    {
     "cell_type": "heading",
     "level": 2,
     "metadata": {},
     "source": [
      "RECURRENCE"
     ]
    },
    {
     "cell_type": "code",
     "collapsed": false,
     "input": [
      "from IPython.display import Latex\n",
      "Latex(r'''If $A(1...n)$ is the input array, and $S(i)$ is the maximum subarray sum of $A(1..i)$\n",
      "\n",
      "S(i) = \\max_{j \\leq i}{C(i)} - \\min_{j < i}{C(j)} \\\\\n",
      "C(i) = \\sum_{1 \\leq j \\leq i} A(i) \n",
      "''')"
     ],
     "language": "python",
     "metadata": {},
     "outputs": [
      {
       "latex": [
        "If $A(1...n)$ is the input array, and $S(i)$ is the maximum subarray sum of $A(1..i)$\n",
        "\n",
        "S(i) = \\max_{j \\leq i}{C(i)} - \\min_{j < i}{C(j)} \\\\\n",
        "C(i) = \\sum_{1 \\leq j \\leq i} A(i) \n"
       ],
       "metadata": {},
       "output_type": "pyout",
       "prompt_number": 79,
       "text": [
        "<IPython.core.display.Latex at 0x10b31aad0>"
       ]
      }
     ],
     "prompt_number": 79
    },
    {
     "cell_type": "heading",
     "level": 2,
     "metadata": {},
     "source": [
      "WHY DOES THIS WORK ?"
     ]
    },
    {
     "cell_type": "code",
     "collapsed": false,
     "input": [
      "import matplotlib.pyplot as plt"
     ],
     "language": "python",
     "metadata": {},
     "outputs": [],
     "prompt_number": 77
    },
    {
     "cell_type": "code",
     "collapsed": false,
     "input": [
      "fig, ax = plt.subplots()\n",
      "ax.set_xlabel('Index')\n",
      "ax.set_ylabel('Cumulative Sum')\n",
      "ax.plot(C, color='b', linewidth=1, marker='*')\n",
      "ax.plot(mnC)\n",
      "ax.vlines(mxI, mnC, mxC, linestyles='--', color='r', linewidth=2)\n",
      "plt.show()"
     ],
     "language": "python",
     "metadata": {},
     "outputs": [
      {
       "metadata": {},
       "output_type": "display_data",
       "png": "[encoded data removed]",
       "text": [
        "<matplotlib.figure.Figure at 0x10b7fce10>"
       ]
      }
     ],
     "prompt_number": 78
    },
    {
     "cell_type": "markdown",
     "metadata": {},
     "source": [
      "Consider that the values in the input array are increments (could be positive or negative). You start with an initial value of 0 and successively apply these positive or negative decrements (to get cumulative sum plotted above). For example, you start with a initial stock price of zero and every day the share price rises or falls. Alternatively, imagine that you climb up or down slope in proportion to the amounts in the array. Question is now what is the window of maximum gains ? Intuitively, you should buy at the lowest peak and sell at the highest peak - more accurately you should choose a window (range) where the difference of cumulative sum i.e (max - min) is maximized.   "
     ]
    },
    {
     "cell_type": "heading",
     "level": 2,
     "metadata": {},
     "source": [
      "REFEREENCES"
     ]
    },
    {
     "cell_type": "markdown",
     "metadata": {},
     "source": [
      "1. Elements of programming interviews: Adnan Aziz, Tsung Hsien Lee, Amit Prakash\n",
      "2. Wikipedia article: http://en.wikipedia.org/wiki/Maximum_subarray_problem "
     ]
    }
   ],
   "metadata": {}
  }
 ]
}