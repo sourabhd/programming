{
 "metadata": {
  "name": "",
  "signature": "sha256:654721989dcd72b5c28e3946094aa4a272bca8acbfae7951869bc0a22b683522"
 },
 "nbformat": 3,
 "nbformat_minor": 0,
 "worksheets": [
  {
   "cells": [
    {
     "cell_type": "code",
     "collapsed": false,
     "input": [
      "from __future__ import print_function\n",
      "import numpy as np\n",
      "import scipy\n",
      "import matplotlib.pyplot as plt\n",
      "from sklearn.preprocessing import LabelBinarizer\n",
      "import theano\n",
      "import theano.tensor as T"
     ],
     "language": "python",
     "metadata": {},
     "outputs": [],
     "prompt_number": 58
    },
    {
     "cell_type": "code",
     "collapsed": false,
     "input": [
      "theano.config.exception_verbosity='high'"
     ],
     "language": "python",
     "metadata": {},
     "outputs": [],
     "prompt_number": 59
    },
    {
     "cell_type": "code",
     "collapsed": false,
     "input": [
      "dtype = theano.config.floatX\n",
      "num_features = 2   # dimensions\n",
      "num_classes = 2\n",
      "num_pos = 1000\n",
      "P_sigma = 1\n",
      "P_mu = 10\n",
      "P = P_sigma * np.random.randn(1000,2) + P_mu\n",
      "num_neg = 1000\n",
      "N_sigma = 1\n",
      "N_mu = 1\n",
      "N = N_sigma * np.random.randn(1000,2) + N_mu\n",
      "X = np.vstack([P, N]).astype(theano.config.floatX)\n",
      "pos = np.atleast_2d(np.ones(num_pos, dtype=int)).T\n",
      "neg = np.atleast_2d(-1 * np.ones(num_neg, dtype=int)).T\n",
      "y = np.vstack((pos,neg)) #.astype(theano.config.floatX)\n",
      "num_instances = y.shape[0]\n",
      "print(num_instances)"
     ],
     "language": "python",
     "metadata": {},
     "outputs": [
      {
       "output_type": "stream",
       "stream": "stdout",
       "text": [
        "2000\n"
       ]
      }
     ],
     "prompt_number": 60
    },
    {
     "cell_type": "code",
     "collapsed": false,
     "input": [
      "plt.scatter(X[:,0],X[:,1])"
     ],
     "language": "python",
     "metadata": {},
     "outputs": [
      {
       "metadata": {},
       "output_type": "pyout",
       "prompt_number": 61,
       "text": [
        "<matplotlib.collections.PathCollection at 0x10990c890>"
       ]
      },
      {
       "metadata": {},
       "output_type": "display_data",
       "png": "[encoded data removed]",
       "text": [
        "<matplotlib.figure.Figure at 0x109b66d50>"
       ]
      }
     ],
     "prompt_number": 61
    },
    {
     "cell_type": "code",
     "collapsed": false,
     "input": [
      "#Y = LabelBinarizer(neg_label=-1, pos_label=1).fit_transform(y).astype(theano.config.floatX)\n",
      "print(y)\n",
      "Y = np.hstack((-y,y))\n",
      "Y = Y.astype(dtype)\n",
      "print(Y)"
     ],
     "language": "python",
     "metadata": {},
     "outputs": [
      {
       "output_type": "stream",
       "stream": "stdout",
       "text": [
        "[[ 1]\n",
        " [ 1]\n",
        " [ 1]\n",
        " ..., \n",
        " [-1]\n",
        " [-1]\n",
        " [-1]]\n",
        "[[-1.  1.]\n",
        " [-1.  1.]\n",
        " [-1.  1.]\n",
        " ..., \n",
        " [ 1. -1.]\n",
        " [ 1. -1.]\n",
        " [ 1. -1.]]\n"
       ]
      }
     ],
     "prompt_number": 62
    },
    {
     "cell_type": "code",
     "collapsed": false,
     "input": [
      "W0 = np.zeros((num_features, num_classes), dtype=dtype)\n",
      "b0 = np.zeros((1, num_classes), dtype=dtype)\n",
      "print(X.shape)\n",
      "print(Y.shape)\n",
      "print(W0.shape)\n",
      "print(b0.shape)"
     ],
     "language": "python",
     "metadata": {},
     "outputs": [
      {
       "output_type": "stream",
       "stream": "stdout",
       "text": [
        "(2000, 2)\n",
        "(2000, 2)\n",
        "(2, 2)\n",
        "(1, 2)\n"
       ]
      }
     ],
     "prompt_number": 63
    },
    {
     "cell_type": "code",
     "collapsed": false,
     "input": [
      "W_s = theano.shared(W0, name=\"W_s\")\n",
      "b_s = theano.shared(b0, name=\"b_s\", broadcastable=[True,False])\n",
      "X_s = T.matrix(\"X_s\", dtype=theano.config.floatX)\n",
      "Y_s = T.matrix(\"Y_s\", dtype=theano.config.floatX)\n",
      "margin_s = Y_s * (theano.dot(X_s, W_s) + b_s)\n",
      "hinge_s = T.ones_like(margin_s) - margin_s\n",
      "nneg_s = hinge_s > 0\n",
      "nneg_s.astype(theano.config.floatX)\n",
      "hinge_s = hinge_s * nneg_s\n",
      "svm_cost_s = T.sum(T.mean(hinge_s, axis=0))\n",
      "gW_s, gb_s = T.grad(svm_cost_s, [W_s, b_s])\n",
      "pred = theano.dot(X_s, W_s) + b_s\n",
      "lrate = 0.1\n",
      "updates = [(W_s, W_s - lrate * gW_s), (b_s, b_s - lrate * gb_s)]"
     ],
     "language": "python",
     "metadata": {},
     "outputs": [],
     "prompt_number": 64
    },
    {
     "cell_type": "code",
     "collapsed": false,
     "input": [
      "train = theano.function(inputs=[X_s,Y_s], outputs=[W_s, b_s], updates=updates)"
     ],
     "language": "python",
     "metadata": {},
     "outputs": [],
     "prompt_number": 65
    },
    {
     "cell_type": "code",
     "collapsed": false,
     "input": [
      "for i in range(10000):\n",
      "    WW, bb = train(X, Y)"
     ],
     "language": "python",
     "metadata": {},
     "outputs": [],
     "prompt_number": 66
    },
    {
     "cell_type": "code",
     "collapsed": false,
     "input": [
      "print(WW)\n",
      "print('')\n",
      "print('')\n",
      "print('')\n",
      "print(bb)"
     ],
     "language": "python",
     "metadata": {},
     "outputs": [
      {
       "output_type": "stream",
       "stream": "stdout",
       "text": [
        "[[-0.251057    0.251057  ]\n",
        " [-0.17013507  0.17013507]]\n",
        "\n",
        "\n",
        "\n",
        "[[ 2.32711291 -2.32711291]]\n"
       ]
      }
     ],
     "prompt_number": 67
    },
    {
     "cell_type": "code",
     "collapsed": false,
     "input": [
      "x = np.linspace(-10,10,200)\n",
      "f_x = (-1.0 * WW[0][0] / WW[1][0]) * x - ( bb[0][0] / WW[1][0]) \n",
      "plt.plot(x,f_x)\n",
      "plt.scatter(X[:,0],X[:,1])"
     ],
     "language": "python",
     "metadata": {},
     "outputs": [
      {
       "metadata": {},
       "output_type": "pyout",
       "prompt_number": 74,
       "text": [
        "<matplotlib.collections.PathCollection at 0x109b44090>"
       ]
      },
      {
       "metadata": {},
       "output_type": "display_data",
       "png": "[encoded data removed]",
       "text": [
        "<matplotlib.figure.Figure at 0x109b44d10>"
       ]
      }
     ],
     "prompt_number": 74
    },
    {
     "cell_type": "code",
     "collapsed": false,
     "input": [],
     "language": "python",
     "metadata": {},
     "outputs": []
    }
   ],
   "metadata": {}
  }
 ]
}